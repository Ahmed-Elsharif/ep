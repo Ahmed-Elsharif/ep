{
  "cells": [
    {
      "attachments": {},
      "cell_type": "markdown",
      "metadata": {
        "id": "5oXTJOaaHtEC"
      },
      "source": [
        "> # Dear Epsilon Students, \n",
        "> # The More you practice The better You'll Be."
      ]
    },
    {
      "attachments": {},
      "cell_type": "markdown",
      "metadata": {
        "id": "fD7NjUUrHtER"
      },
      "source": [
        "### Instructions: \n",
        "- Make sure that you understand this topics before you start.\n",
        "- If you found something hard to do, try and try then google it and finally ask someone. \n",
        "- You can divide this work into daily tasks so that you do not feel pressure.\n",
        "- After you finish, go to model answer and rate yourself. \n",
        "- If you find something ambiguous, Try to make a hypothesis to solve a problem. "
      ]
    },
    {
      "attachments": {},
      "cell_type": "markdown",
      "metadata": {
        "id": "mhcUHiUcHtEV"
      },
      "source": [
        "### Question classification: \n",
        "- Green is level 1 \n",
        "- Orange is level 2 \n",
        "- Red is level 3 "
      ]
    },
    {
      "attachments": {},
      "cell_type": "markdown",
      "metadata": {
        "id": "UIm07jljHtEX"
      },
      "source": [
        "# <center> Let's start 💪 </center> "
      ]
    },
    {
      "attachments": {},
      "cell_type": "markdown",
      "metadata": {},
      "source": [
        "## Dictionaries"
      ]
    },
    {
      "attachments": {},
      "cell_type": "markdown",
      "metadata": {},
      "source": [
        "## <p style=\"color:green;\">Q.1 Using keys and indexing, grab the 'hello' from the following dictionaries:</p>\n",
        ">d = {'k1':{'k2':'hello'}}\n",
        "\n"
      ]
    },
    {
      "cell_type": "code",
      "execution_count": 2,
      "metadata": {},
      "outputs": [
        {
          "data": {
            "text/plain": [
              "'hello'"
            ]
          },
          "execution_count": 2,
          "metadata": {},
          "output_type": "execute_result"
        }
      ],
      "source": [
        "# Answer here\n",
        "d = {'k1':{'k2':'hello'}}\n",
        "d['k1']['k2']\n"
      ]
    },
    {
      "attachments": {},
      "cell_type": "markdown",
      "metadata": {},
      "source": [
        "## <p style=\"color:orange;\">Q.2 Using keys and indexing, grab the 'hello' from the following dictionaries:</p>\n",
        "> d = {'k1':[{'nest_key':['this is deep',['hello']]}]}"
      ]
    },
    {
      "cell_type": "code",
      "execution_count": 10,
      "metadata": {},
      "outputs": [
        {
          "data": {
            "text/plain": [
              "['hello']"
            ]
          },
          "execution_count": 10,
          "metadata": {},
          "output_type": "execute_result"
        }
      ],
      "source": [
        "# Answer here\n",
        "d = {'k1':[{'nest_key':['this is deep',['hello']]}]}\n",
        "d['k1'][0]['nest_key'][1]"
      ]
    },
    {
      "attachments": {},
      "cell_type": "markdown",
      "metadata": {},
      "source": [
        "## <p style=\"color:red;\">Q.3 Using keys and indexing, grab the 'hello' from the following dictionaries:</p>\n",
        "d = {'k1':[1,2,{'k2':['this is tricky',{'tough':[1,2,['hello']]}]}]}"
      ]
    },
    {
      "cell_type": "code",
      "execution_count": 3,
      "metadata": {},
      "outputs": [
        {
          "data": {
            "text/plain": [
              "['hello']"
            ]
          },
          "execution_count": 3,
          "metadata": {},
          "output_type": "execute_result"
        }
      ],
      "source": [
        "# Answer here\n",
        "d = {'k1':[1,2,{'k2':['this is tricky',{'tough':[1,2,['hello']]}]}]}\n",
        "d['k1'][2]['k2'][1]['tough'][2]"
      ]
    },
    {
      "attachments": {},
      "cell_type": "markdown",
      "metadata": {},
      "source": [
        "## <p style=\"color:green;\">Q.4 Write a Python script to add a key to a dictionary.</p>\n",
        "> Sample Dictionary : {0: 10, 1: 20}\n",
        "\n",
        "> Expected Result : {0: 10, 1: 20, 2: 30}"
      ]
    },
    {
      "cell_type": "code",
      "execution_count": 5,
      "metadata": {},
      "outputs": [
        {
          "data": {
            "text/plain": [
              "{0: 10, 1: 20, 2: 30}"
            ]
          },
          "execution_count": 5,
          "metadata": {},
          "output_type": "execute_result"
        }
      ],
      "source": [
        "# Answer here\n",
        "Dictionary = {0: 10, 1: 20}\n",
        "Dictionary[2]=30\n",
        "Dictionary\n"
      ]
    },
    {
      "attachments": {},
      "cell_type": "markdown",
      "metadata": {},
      "source": [
        "## <p style=\"color:green;\">Q.5 Write a Python program to sum all the items in a dictionary.</p>\n"
      ]
    },
    {
      "cell_type": "code",
      "execution_count": 6,
      "metadata": {},
      "outputs": [
        {
          "data": {
            "text/plain": [
              "60"
            ]
          },
          "execution_count": 6,
          "metadata": {},
          "output_type": "execute_result"
        }
      ],
      "source": [
        "# Answer here\n",
        "sum(Dictionary.values())"
      ]
    },
    {
      "attachments": {},
      "cell_type": "markdown",
      "metadata": {},
      "source": [
        "## <p style=\"color:green;\">Q.6 Write a Python program to remove item(s) from a given set.</p>\n"
      ]
    },
    {
      "cell_type": "code",
      "execution_count": 7,
      "metadata": {},
      "outputs": [
        {
          "data": {
            "text/plain": [
              "{3, 6, 7, 8}"
            ]
          },
          "execution_count": 7,
          "metadata": {},
          "output_type": "execute_result"
        }
      ],
      "source": [
        "# Answer here\n",
        "ss={3,6,8,9,7,6}\n",
        "ss.discard(9)\n",
        "ss"
      ]
    },
    {
      "attachments": {},
      "cell_type": "markdown",
      "metadata": {},
      "source": [
        "## Loops"
      ]
    },
    {
      "attachments": {},
      "cell_type": "markdown",
      "metadata": {
        "id": "KXTHXbPtHtEa"
      },
      "source": [
        "## <p style=\"color:orange;\">Q.01 print out words that start with 's' in the following sentence.</p>\n",
        "> st = 'Print only the words that start with s in this sentence'"
      ]
    },
    {
      "cell_type": "code",
      "execution_count": 9,
      "metadata": {
        "id": "knyZ3w0mHtEc"
      },
      "outputs": [
        {
          "name": "stdout",
          "output_type": "stream",
          "text": [
            "start\n",
            "s\n",
            "sentence\n"
          ]
        }
      ],
      "source": [
        "# Answer here \n",
        "st = 'Print only the words that start with s in this sentence'\n",
        "for s in st.split():\n",
        "    if s.startswith('s'):\n",
        "        print(s)\n",
        "\n",
        "   "
      ]
    },
    {
      "attachments": {},
      "cell_type": "markdown",
      "metadata": {
        "id": "4CaXVgX7HtEj"
      },
      "source": [
        "## <p style=\"color:orange;\">Q.02 Use List comprehension to create a list of all numbers between 1 and 50 that are divisible by 3.</p>"
      ]
    },
    {
      "cell_type": "code",
      "execution_count": 10,
      "metadata": {
        "id": "CqGnsNTPHtEl"
      },
      "outputs": [
        {
          "name": "stdout",
          "output_type": "stream",
          "text": [
            "[3, 6, 9, 12, 15, 18, 21, 24, 27, 30, 33, 36, 39, 42, 45, 48]\n"
          ]
        }
      ],
      "source": [
        "# Answer here \n",
        "\n",
        "l2=[]\n",
        "for i in range(1,51):\n",
        "    if i %3 == 0:\n",
        "        l2.append(i)\n",
        "print(l2)        \n"
      ]
    },
    {
      "attachments": {},
      "cell_type": "markdown",
      "metadata": {
        "id": "PouXoSXZHtEn"
      },
      "source": [
        "## <p style=\"color:orange;\">Q.03 Go through the string below and if the length of a word is even print \"even!\"</p>\n",
        "> st = 'Print only the words that start with s in this sentence'"
      ]
    },
    {
      "cell_type": "code",
      "execution_count": 11,
      "metadata": {
        "id": "Rgy4W4fcHtEp"
      },
      "outputs": [
        {
          "name": "stdout",
          "output_type": "stream",
          "text": [
            "only : even\n",
            "that : even\n",
            "with : even\n",
            "in : even\n",
            "this : even\n",
            "sentence : even\n"
          ]
        }
      ],
      "source": [
        "# Answer here \n",
        "st = 'Print only the words that start with s in this sentence'\n",
        "for i in (st.split()):\n",
        "    if len(i) % 2 ==0:\n",
        "        print(f'{i} : even')\n",
        "\n"
      ]
    },
    {
      "attachments": {},
      "cell_type": "markdown",
      "metadata": {
        "id": "U_qg9I8SHtEr"
      },
      "source": [
        "## <p style=\"color:green;\">Q.04 Given X which is a password. Print \"Wrong\" if the password is incorrect otherwise, print \"Correct\" and terminate the program.</p>\n",
        "> The \"Correct\" password is the number 1999.\n",
        "\n",
        "> Note: Don't end the program even if the user write the correct password."
      ]
    },
    {
      "cell_type": "code",
      "execution_count": 12,
      "metadata": {
        "id": "E1RVdpYcHtEs"
      },
      "outputs": [
        {
          "name": "stdout",
          "output_type": "stream",
          "text": [
            "Wrong\n"
          ]
        }
      ],
      "source": [
        "# Answer here \n",
        "x= int(input('Enter your password'))\n",
        "if x != 1999:\n",
        "    print('Wrong')    \n",
        "else:\n",
        "    print('Correct')\n"
      ]
    },
    {
      "attachments": {},
      "cell_type": "markdown",
      "metadata": {
        "id": "yWW58B4gHtEt"
      },
      "source": [
        "## <p style=\"color:red;\">Q.05 Given a number N. Print the factorial of number N.</p>\n",
        "> For information about factorial: https://en.wikipedia.org/wiki/Factorial"
      ]
    },
    {
      "cell_type": "code",
      "execution_count": 13,
      "metadata": {
        "id": "a6yrm67xHtEu"
      },
      "outputs": [
        {
          "name": "stdout",
          "output_type": "stream",
          "text": [
            "120\n"
          ]
        }
      ],
      "source": [
        "# Answer here \n",
        "N=int(input('Etnter your number'))\n",
        "r=1\n",
        "for i in range (1,(N+1)):\n",
        "    r*=i\n",
        "print(r)    \n"
      ]
    },
    {
      "attachments": {},
      "cell_type": "markdown",
      "metadata": {
        "id": "0OCZ4DrgHtEv"
      },
      "source": [
        "## <p style=\"color:red;\">Q.06 Given a number N.print sum of numbers from 1 to N, Using a loop.</p>\n",
        "> list4 = [5,3,4,6,1]"
      ]
    },
    {
      "cell_type": "code",
      "execution_count": 14,
      "metadata": {
        "id": "_vFNpkdmHtEw"
      },
      "outputs": [
        {
          "name": "stdout",
          "output_type": "stream",
          "text": [
            "15\n"
          ]
        }
      ],
      "source": [
        "# Answer here \n",
        "N=int(input('Etnter your number'))\n",
        "r=0\n",
        "for i in range (0,(N+1)):\n",
        "    r+=i\n",
        "print(r)  "
      ]
    },
    {
      "attachments": {},
      "cell_type": "markdown",
      "metadata": {
        "id": "lT4c-9rKHtEw"
      },
      "source": [
        "## <p style=\"color:orange;\">Q.07 - Write a Python program to construct the following pattern.</p>\n"
      ]
    },
    {
      "cell_type": "raw",
      "metadata": {
        "id": "FDzKpjXRHtEx"
      },
      "source": [
        "* \n",
        "* * \n",
        "* * * \n",
        "* * * * \n",
        "* * * * * "
      ]
    },
    {
      "cell_type": "code",
      "execution_count": 16,
      "metadata": {
        "id": "3SmLct8CHtEy"
      },
      "outputs": [
        {
          "name": "stdout",
          "output_type": "stream",
          "text": [
            "* \n",
            "* * \n",
            "* * * \n",
            "* * * * \n",
            "* * * * * \n"
          ]
        }
      ],
      "source": [
        "# Answer here \n",
        "s=(5)\n",
        "for i in range(s):\n",
        "    for k in range(i+1):\n",
        "        print(\"* \", end=\"\")\n",
        "    print(\"\")"
      ]
    },
    {
      "attachments": {},
      "cell_type": "markdown",
      "metadata": {
        "id": "2CCjELmtHtE3"
      },
      "source": [
        "## <p style=\"color:green;\">Q.8 Given a list. Replace every positive number by 1, Replace every negative number by 2.</p>\n",
        "> [19, 20, 21, 10, -53, -23, 10]"
      ]
    },
    {
      "cell_type": "code",
      "execution_count": 19,
      "metadata": {
        "id": "rxnzbiXXHtE4"
      },
      "outputs": [
        {
          "name": "stdout",
          "output_type": "stream",
          "text": [
            "[1, 1, 1, 1, 2, 2, 1]\n"
          ]
        }
      ],
      "source": [
        "# Answer here \n",
        "s1=[19, 20, 21, 10, -53, -23, 10]\n",
        "for i , n in enumerate (s1):\n",
        "    if n > 0 :\n",
        "        s1[i]= 1\n",
        "    else:\n",
        "        s1[i]= 2\n",
        "print(s1)        \n"
      ]
    },
    {
      "attachments": {},
      "cell_type": "markdown",
      "metadata": {
        "id": "KXLIBOj4HtE9"
      },
      "source": [
        "# <center> Thank's for your effort ❤️ </center> "
      ]
    }
  ],
  "metadata": {
    "colab": {
      "provenance": []
    },
    "kernelspec": {
      "display_name": "Python 3",
      "language": "python",
      "name": "python3"
    },
    "language_info": {
      "codemirror_mode": {
        "name": "ipython",
        "version": 3
      },
      "file_extension": ".py",
      "mimetype": "text/x-python",
      "name": "python",
      "nbconvert_exporter": "python",
      "pygments_lexer": "ipython3",
      "version": "3.10.9"
    }
  },
  "nbformat": 4,
  "nbformat_minor": 0
}
