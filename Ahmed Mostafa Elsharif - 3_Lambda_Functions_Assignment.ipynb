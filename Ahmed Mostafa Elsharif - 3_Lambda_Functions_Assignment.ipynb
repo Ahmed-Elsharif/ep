{
  "cells": [
    {
      "cell_type": "markdown",
      "metadata": {
        "id": "Ht_jogvBjJHp"
      },
      "source": [
        "> # Dear Epsilon Students,\n",
        "> # The More you practice The better You'll Be."
      ]
    },
    {
      "cell_type": "markdown",
      "metadata": {
        "id": "d5aZleqbjJIE"
      },
      "source": [
        "### Instructions:\n",
        "- Make sure that you understand this topics before you start.\n",
        "- If you found something hard to do, try and try then google it and finally ask someone.\n",
        "- You can divide this work into daily tasks so that you do not feel pressure.\n",
        "- After you finish, go to model answer and rate yourself.\n",
        "- If you find something ambiguous, Try to make a hypothesis to solve a problem."
      ]
    },
    {
      "cell_type": "markdown",
      "metadata": {
        "id": "0M1PYYMcjJII"
      },
      "source": [
        "### Question classification:\n",
        "- Green is level 1\n",
        "- Orange is level 2\n",
        "- Red is level 3"
      ]
    },
    {
      "cell_type": "markdown",
      "metadata": {
        "id": "N_uAaoycjJIL"
      },
      "source": [
        "# <center> Let's start 💪 </center>"
      ]
    },
    {
      "attachments": {},
      "cell_type": "markdown",
      "metadata": {
        "id": "eMFF5aHujJJa"
      },
      "source": [
        "## <p style=\"color:green;\">Q.1 Write a Python program to create a lambda function that adds 15 to a given number passed in as an argument\n"
      ]
    },
    {
      "cell_type": "code",
      "execution_count": 5,
      "metadata": {
        "id": "2ZGZ80wkjJJa"
      },
      "outputs": [
        {
          "data": {
            "text/plain": [
              "[18, 19, 20, 21, 22]"
            ]
          },
          "execution_count": 5,
          "metadata": {},
          "output_type": "execute_result"
        }
      ],
      "source": [
        "# Answer here\n",
        "list(map( lambda x: x+15 , [3,4,5,6,7]))\n",
        "\n"
      ]
    },
    {
      "attachments": {},
      "cell_type": "markdown",
      "metadata": {
        "id": "z-LBnlBFjJJc"
      },
      "source": [
        "## <p style=\"color:green;\">Q.2 create a lambda function that multiplies argument x with argument y and print the result.</p>\n"
      ]
    },
    {
      "cell_type": "code",
      "execution_count": null,
      "metadata": {
        "id": "-46DDi-tjJJe"
      },
      "outputs": [],
      "source": [
        "# Answer here\n"
      ]
    },
    {
      "attachments": {},
      "cell_type": "markdown",
      "metadata": {
        "id": "K7SlKXmvjJJg"
      },
      "source": [
        "## <p style=\"color:orange;\">Q.3 Write a Python program to filter a list of integers using Lambda. </p>\n",
        "> Original list of integers:[1, 2, 3, 4, 5, 6, 7, 8, 9, 10]\n",
        "\n",
        "> Even numbers from the said list:[2, 4, 6, 8, 10]\n",
        "\n",
        "> Odd numbers from the said list:[1, 3, 5, 7, 9]\n"
      ]
    },
    {
      "cell_type": "code",
      "execution_count": null,
      "metadata": {
        "id": "FCBzlEqQjJJi"
      },
      "outputs": [],
      "source": [
        "# Answer here\n"
      ]
    },
    {
      "attachments": {},
      "cell_type": "markdown",
      "metadata": {
        "id": "HM1n-cq-jJJl"
      },
      "source": [
        "## <p style=\"color:orange;\">Q.4 Write a Python program to add three given lists using Python map and lambda.\n",
        "\n",
        "</p>\n"
      ]
    },
    {
      "cell_type": "code",
      "execution_count": null,
      "metadata": {
        "id": "I5-1zQzljJJm"
      },
      "outputs": [],
      "source": [
        "# Answer here\n"
      ]
    },
    {
      "cell_type": "markdown",
      "metadata": {
        "id": "avkse3WtjJKB"
      },
      "source": [
        "# <center> Thank's for your effort ❤️ </center>"
      ]
    }
  ],
  "metadata": {
    "colab": {
      "provenance": []
    },
    "kernelspec": {
      "display_name": "Python 3",
      "language": "python",
      "name": "python3"
    },
    "language_info": {
      "codemirror_mode": {
        "name": "ipython",
        "version": 3
      },
      "file_extension": ".py",
      "mimetype": "text/x-python",
      "name": "python",
      "nbconvert_exporter": "python",
      "pygments_lexer": "ipython3",
      "version": "3.10.9"
    }
  },
  "nbformat": 4,
  "nbformat_minor": 0
}
