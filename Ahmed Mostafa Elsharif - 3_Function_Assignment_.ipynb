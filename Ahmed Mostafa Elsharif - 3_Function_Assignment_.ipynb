{
  "cells": [
    {
      "cell_type": "markdown",
      "metadata": {
        "id": "xEQbbLj11Po5"
      },
      "source": [
        "> # Dear Epsilon Students,\n",
        "> # The More you practice The better You'll Be."
      ]
    },
    {
      "cell_type": "markdown",
      "metadata": {
        "id": "Bh33Xgic1PpO"
      },
      "source": [
        "### Instructions:\n",
        "- Make sure that you understand this topics before you start.\n",
        "- If you found something hard to do, try and try then google it and finally ask someone.\n",
        "- You can divide this work into daily tasks so that you do not feel pressure.\n",
        "- After you finish, go to model answer and rate yourself.\n",
        "- If you find something ambiguous, Try to make a hypothesis to solve a problem."
      ]
    },
    {
      "cell_type": "markdown",
      "metadata": {
        "id": "gZxityll1PpR"
      },
      "source": [
        "### Question classification:\n",
        "- Green is level 1\n",
        "- Orange is level 2\n",
        "- Red is level 3"
      ]
    },
    {
      "cell_type": "markdown",
      "metadata": {
        "id": "zNDuAFbd1PpU"
      },
      "source": [
        "# <center> Let's start 💪 </center>"
      ]
    },
    {
      "cell_type": "markdown",
      "metadata": {
        "id": "6TrCpL-S1PpX"
      },
      "source": [
        "## <p style=\"color:green;\">Q.01 Write a function takes a two-word string and returns True if both words begin with same letter</p>\n",
        "> ('Levelheaded Llama') → True\n",
        "\n",
        "> ('Crazy Kangaroo') → False"
      ]
    },
    {
      "cell_type": "code",
      "execution_count": 1,
      "metadata": {
        "id": "QWfa4F541Ppa"
      },
      "outputs": [
        {
          "data": {
            "text/plain": [
              "True"
            ]
          },
          "execution_count": 1,
          "metadata": {},
          "output_type": "execute_result"
        }
      ],
      "source": [
        "# Answer here\n",
        "def is_sameletter (a:str,b:str):\n",
        "    '''\n",
        "    takes a two-word string and returns True if both words begin with same letter\n",
        "    '''\n",
        "    return a[0].lower() == b[0].lower()\n",
        "is_sameletter('ahmed','ali')\n"
      ]
    },
    {
      "cell_type": "markdown",
      "metadata": {
        "id": "IX4FQk1M1Pph"
      },
      "source": [
        "## <p style=\"color:green;\">Q.02 Write a function that returns the lesser of two given numbers if both numbers are even, but returns the greater if one or both numbers are odd</p>\n",
        "\n",
        "> (2,4) → 2\n",
        "\n",
        "> (2,5) → 5"
      ]
    },
    {
      "cell_type": "code",
      "execution_count": 2,
      "metadata": {
        "id": "ScC4nV_11Ppl"
      },
      "outputs": [
        {
          "name": "stdout",
          "output_type": "stream",
          "text": [
            "2\n",
            "5\n"
          ]
        }
      ],
      "source": [
        "# Answer here\n",
        "def l_g (a:int,b:int):\n",
        "    '''\n",
        "    returns the lesser of two given \n",
        "    numbers if both numbers are even,\n",
        "    but returns the greater if one or both\n",
        "     numbers are odd\n",
        "    '''\n",
        "    if a % 2 == 0 and b % 2 == 0:\n",
        "        if a > b :\n",
        "            return b \n",
        "        else:\n",
        "            return a\n",
        "    else:\n",
        "        if a > b :\n",
        "            return a \n",
        "        else:\n",
        "            return b  \n",
        "print(l_g(2,4))\n",
        "print(l_g(2,5))             \n"
      ]
    },
    {
      "cell_type": "markdown",
      "metadata": {
        "id": "dYuxpg-L1Ppo"
      },
      "source": [
        "## <p style=\"color:green;\">Q.03 Write a function that capitalizes the first and fourth letters of a name</p>\n",
        "> ('macdonald') → MacDonald"
      ]
    },
    {
      "cell_type": "code",
      "execution_count": 6,
      "metadata": {
        "id": "mET_38gx1Ppq"
      },
      "outputs": [
        {
          "data": {
            "text/plain": [
              "'MacDonald'"
            ]
          },
          "execution_count": 6,
          "metadata": {},
          "output_type": "execute_result"
        }
      ],
      "source": [
        "# Answer here\n",
        "def cap(name:str):\n",
        "    '''\n",
        "    capitalizes the first and fourth letters of a name\n",
        "    '''\n",
        "    if len(name) <= 3:\n",
        "        return name.capitalize()\n",
        "    else:\n",
        "        list1= list(name)\n",
        "        list1[0]=list1[0].upper()\n",
        "        list1[3]=list1[3].upper()\n",
        "        cap_=''.join(list1)\n",
        "        return cap_\n",
        "cap('macdonald')"
      ]
    },
    {
      "cell_type": "markdown",
      "metadata": {
        "id": "HCu0dqFW1Ppt"
      },
      "source": [
        "## <p style=\"color:green;\">Q.04 Given a sentence, return a sentence with the words reversed</p>\n",
        "> ('I am home') → 'home am I'"
      ]
    },
    {
      "cell_type": "code",
      "execution_count": 4,
      "metadata": {
        "id": "2r_J3-it1Ppu"
      },
      "outputs": [
        {
          "data": {
            "text/plain": [
              "'home am I'"
            ]
          },
          "execution_count": 4,
          "metadata": {},
          "output_type": "execute_result"
        }
      ],
      "source": [
        "# Answer here\n",
        "def reversed_ (sentence:str):\n",
        "    '''\n",
        "    Given a sentence, return a sentence with the words reversed\n",
        "    '''\n",
        "    se=sentence.split()[::-1]\n",
        "    return ' '.join(se)\n",
        "reversed_('I am home')    "
      ]
    },
    {
      "cell_type": "markdown",
      "metadata": {
        "id": "tZwBdbKU1Ppv"
      },
      "source": [
        "## <p style=\"color:orange;\">Q.05 Given a list of ints, return True if the array contains a 3 next to a 3 somewhere.</p>\n",
        "> has_33([1, 3, 3]) → True\n",
        "\n",
        "> has_33([1, 3, 1, 3]) → False\n"
      ]
    },
    {
      "cell_type": "code",
      "execution_count": 5,
      "metadata": {
        "id": "6H4eCnuS1Ppw"
      },
      "outputs": [
        {
          "name": "stdout",
          "output_type": "stream",
          "text": [
            "True\n",
            "False\n"
          ]
        }
      ],
      "source": [
        "# Answer here\n",
        "def has_33 (y:list):\n",
        "    for i in range(len(y)-1) :\n",
        "        if y[i] == 3 and y[i+1]==3:\n",
        "            return True\n",
        "    return False\n",
        "        \n",
        "print(has_33([1, 3, 3, 5]))\n",
        "\n",
        "print(has_33([1, 3, 1, 3 ]))\n"
      ]
    },
    {
      "cell_type": "markdown",
      "metadata": {
        "id": "J5O9Z8Tl1Ppx"
      },
      "source": [
        "## <p style=\"color:orange;\">Q.06 BLACKJACK: Given three integers between 1 and 11, if their sum is less than or equal to 21, return their sum. If their sum exceeds 21 and there's an eleven, reduce the total sum by 10. Finally, if the sum (even after adjustment) exceeds 21, return 'BUST'¶</p>\n",
        "\n",
        ">blackjack(5,6,7) → 18\n",
        "\n",
        ">blackjack(9,9,9) → 'BUST'\n",
        "\n",
        ">blackjack(9,9,11) → 19"
      ]
    },
    {
      "cell_type": "code",
      "execution_count": 7,
      "metadata": {
        "id": "69mfM_HX1Ppy"
      },
      "outputs": [
        {
          "name": "stdout",
          "output_type": "stream",
          "text": [
            "18\n",
            "BUST\n",
            "19\n"
          ]
        }
      ],
      "source": [
        "# Answer here\n",
        "\n",
        "def blackjack (*args):\n",
        "    if sum(args)< 21 or sum(args) == 21:\n",
        "        return sum(args)\n",
        "    elif sum(args)> 21 and args.__contains__ (11):\n",
        "        return sum(args)-10\n",
        "    else:\n",
        "        return 'BUST'\n",
        "print(blackjack(5,6,7))\n",
        "print(blackjack(9,9,9))\n",
        "print(blackjack(9,9,11))"
      ]
    },
    {
      "cell_type": "markdown",
      "metadata": {
        "id": "u8itcJ_01Ppz"
      },
      "source": [
        "## <p style=\"color:red;\">Q.07 SUMMER OF '69: Return the sum of the numbers in the array, except ignore sections of numbers starting with a 6 and extending to the next 9 (every 6 will be followed by at least one 9). Return 0 for no numbers.</p>\n",
        ">summer_69([1, 3, 5]) → 9\n",
        "\n",
        ">summer_69([4, 5, 6, 7, 8, 9]) → 9\n",
        "\n",
        ">summer_69([2, 1, 6, 9, 11]) → 14"
      ]
    },
    {
      "cell_type": "code",
      "execution_count": 7,
      "metadata": {},
      "outputs": [
        {
          "name": "stdout",
          "output_type": "stream",
          "text": [
            "9\n",
            "9\n",
            "14\n"
          ]
        }
      ],
      "source": [
        "def summer_69(nums):\n",
        "    total_sum = 0\n",
        "    flag = True\n",
        "    for i in nums:\n",
        "        if i == 6:\n",
        "            flag = False\n",
        "        elif i == 9:\n",
        "            flag = True\n",
        "        elif flag:\n",
        "            total_sum += i\n",
        "    return total_sum    \n",
        "print(summer_69([1, 3, 5]))\n",
        "print(summer_69([4, 5, 6, 7, 8, 9]))\n",
        "print(summer_69([2, 1, 6, 9, 11]))"
      ]
    },
    {
      "cell_type": "markdown",
      "metadata": {
        "id": "mOME5Asb1Pp0"
      },
      "source": [
        "## <p style=\"color:red;\">Q.08 SPY GAME: Write a function that takes in a list of integers and returns True if it contains 007 in order</p>\n",
        "\n",
        ">spy_game([1,2,4,0,0,7,5]) → True\n",
        "\n",
        "> spy_game([1,0,2,4,0,5,7]) → True\n",
        "\n",
        " >spy_game([1,7,2,0,4,5,0]) → False\n"
      ]
    },
    {
      "cell_type": "code",
      "execution_count": 9,
      "metadata": {
        "id": "j_Re-TIU1Pp6"
      },
      "outputs": [
        {
          "name": "stdout",
          "output_type": "stream",
          "text": [
            "True\n",
            "True\n",
            "False\n"
          ]
        }
      ],
      "source": [
        "# Answer here\n",
        "def spy_game (x):\n",
        "    for i in range(len(x)) :\n",
        "        if x[i] == 0 :\n",
        "            for b in range (i+1,len(x)):\n",
        "                if x[b]== 0:\n",
        "                    for c in range(b+1, len(x)):\n",
        "                        if x[c]==7:\n",
        "                            return True\n",
        "    return False\n",
        "\n",
        "print(spy_game([1,2,4,0,0,7,5]) )\n",
        "print(spy_game([1,0,2,4,0,5,7]) )\n",
        "print(spy_game([1,7,2,0,4,5,0]) )"
      ]
    },
    {
      "cell_type": "markdown",
      "metadata": {
        "id": "PZE66xr81Pp8"
      },
      "source": [
        "## <p style=\"color:green;\">Q.09 Write a function that checks whether a number is in a given range (inclusive of high and low)</p>\n"
      ]
    },
    {
      "cell_type": "code",
      "execution_count": 10,
      "metadata": {
        "id": "XYRoswbK1Pp-"
      },
      "outputs": [
        {
          "data": {
            "text/plain": [
              "True"
            ]
          },
          "execution_count": 10,
          "metadata": {},
          "output_type": "execute_result"
        }
      ],
      "source": [
        "# Answer here\n",
        "def is_in_range(number, low, high):\n",
        "    return low <= number <= high\n",
        "is_in_range(4,3,9)"
      ]
    },
    {
      "cell_type": "markdown",
      "metadata": {
        "id": "xDp3eQ4-1PqC"
      },
      "source": [
        "## <p style=\"color:orange;\">Q.10 Write a Python function to multiply all the numbers in a list.</p>\n",
        "> Sample List : [1, 2, 3, -4]\n",
        "\n",
        "> Expected Output : -24"
      ]
    },
    {
      "cell_type": "code",
      "execution_count": 11,
      "metadata": {
        "id": "0Tjjzarg1PqI"
      },
      "outputs": [
        {
          "data": {
            "text/plain": [
              "-24"
            ]
          },
          "execution_count": 11,
          "metadata": {},
          "output_type": "execute_result"
        }
      ],
      "source": [
        "# Answer here\n",
        "from functools import reduce\n",
        "def mul_ (a,b):\n",
        "    return a*b\n",
        "List1 = [1, 2, 3, -4]\n",
        "reduce(mul_,List1)"
      ]
    },
    {
      "cell_type": "markdown",
      "metadata": {
        "id": "CFUZLmHr1PqJ"
      },
      "source": [
        "## <p style=\"color:red;\">Q.11 Write a Python function that checks whether a passed string is palindrome or not.</p>\n",
        ">Note: A palindrome is word, phrase, or sequence that reads the same backward as forward, e.g., madam or nurses run."
      ]
    },
    {
      "cell_type": "code",
      "execution_count": 22,
      "metadata": {
        "id": "m0cVE4WN1PqL"
      },
      "outputs": [
        {
          "data": {
            "text/plain": [
              "True"
            ]
          },
          "execution_count": 22,
          "metadata": {},
          "output_type": "execute_result"
        }
      ],
      "source": [
        "# Answer here\n",
        "def is_palindrome(x):\n",
        "    s=x.replace(' ','')\n",
        "    if s[::1].lower()==s[::-1].lower():\n",
        "        return True\n",
        "    return False  \n",
        "is_palindrome('nurses run')  "
      ]
    },
    {
      "attachments": {},
      "cell_type": "markdown",
      "metadata": {
        "id": "6KaZrgpG1PqS"
      },
      "source": [
        "## <p style=\"color:green;\">Q.14 Write a Python program to triple all numbers of a given list of integers. Use Python map.</p>\n"
      ]
    },
    {
      "cell_type": "code",
      "execution_count": 23,
      "metadata": {
        "id": "_6PubcHH1PqU"
      },
      "outputs": [
        {
          "data": {
            "text/plain": [
              "[8, 125, 216, 64, 27]"
            ]
          },
          "execution_count": 23,
          "metadata": {},
          "output_type": "execute_result"
        }
      ],
      "source": [
        "# Answer here\n",
        "def triple (v):\n",
        "    return v**3\n",
        "l=(2,5,6,4,3)\n",
        "list(map(triple, l))"
      ]
    },
    {
      "attachments": {},
      "cell_type": "markdown",
      "metadata": {
        "id": "sAxXYv_m1PqY"
      },
      "source": [
        "## <p style=\"color:orange;\">Q.15 Write a Python program to square the elements of a list using map() function.</p>\n"
      ]
    },
    {
      "cell_type": "code",
      "execution_count": 24,
      "metadata": {
        "id": "Um5REnOn1PqZ"
      },
      "outputs": [
        {
          "data": {
            "text/plain": [
              "[4, 25, 36, 16, 9]"
            ]
          },
          "execution_count": 24,
          "metadata": {},
          "output_type": "execute_result"
        }
      ],
      "source": [
        "# Answer here\n",
        "def sq (x):\n",
        "    return x**2\n",
        "b=(2,5,6,4,3)\n",
        "list(map(sq, b))"
      ]
    },
    {
      "attachments": {},
      "cell_type": "markdown",
      "metadata": {
        "id": "gzgThYM01Pqb"
      },
      "source": [
        "## <p style=\"color:green;\">Q.16 Using filter() function filter the list so that only negative numbers are left.</p>\n",
        "> lst1  [12,-1,9,8,-.5,-.2,-100]\n"
      ]
    },
    {
      "cell_type": "code",
      "execution_count": 53,
      "metadata": {
        "id": "VIIpmn051Pqt"
      },
      "outputs": [
        {
          "data": {
            "text/plain": [
              "[-1, -0.5, -0.2, -100]"
            ]
          },
          "execution_count": 53,
          "metadata": {},
          "output_type": "execute_result"
        }
      ],
      "source": [
        "# Answer here\n",
        "def negative (x):\n",
        "    if x< 0 :\n",
        "        return(x)\n",
        "\n",
        "lst1 = [12,-1,9,8,-.5,-.2,-100]\n",
        "list(filter(negative,lst1))"
      ]
    },
    {
      "attachments": {},
      "cell_type": "markdown",
      "metadata": {
        "id": "tnH7-PcZ1Pqv"
      },
      "source": [
        "## <p style=\"color:green;\">Q.17 Using filter function, filter the even numbers so that only odd numbers are passed to the new list.</p>\n",
        "> lst1  [22,100,19,13,11,1,4,66]\n"
      ]
    },
    {
      "cell_type": "code",
      "execution_count": 54,
      "metadata": {
        "id": "i-4muanv1Pqw"
      },
      "outputs": [
        {
          "data": {
            "text/plain": [
              "[19, 13, 11, 1]"
            ]
          },
          "execution_count": 54,
          "metadata": {},
          "output_type": "execute_result"
        }
      ],
      "source": [
        "# Answer here\n",
        "def even_n (x):\n",
        "    if x %2 != 0:\n",
        "        return x\n",
        "\n",
        "lst2 = [22,100,19,13,11,1,4,66]\n",
        "list(filter(even_n,lst2))"
      ]
    },
    {
      "attachments": {},
      "cell_type": "markdown",
      "metadata": {
        "id": "6VR-qp9E1Pqx"
      },
      "source": [
        "## <p style=\"color:green;\">Q.18 Using map() and filter() functions add 2000 to the values below 8000.</p>\n",
        "> lst [1000,500,600,700,5000,90000,17500]"
      ]
    },
    {
      "cell_type": "code",
      "execution_count": 57,
      "metadata": {
        "id": "hAiurfPe1Pqy"
      },
      "outputs": [
        {
          "data": {
            "text/plain": [
              "[3000, 2500, 2600, 2700, 7000]"
            ]
          },
          "execution_count": 57,
          "metadata": {},
          "output_type": "execute_result"
        }
      ],
      "source": [
        "# Answer here\n",
        "def add_2000 (x):\n",
        "    return x+2000\n",
        "def below_8000 (c):\n",
        "    if c < 8000 :\n",
        "        return c\n",
        "\n",
        "lst3 =[1000,500,600,700,5000,90000,17500]\n",
        "lst4= list(filter(below_8000,lst3))\n",
        "list(map(add_2000,lst4))\n"
      ]
    },
    {
      "cell_type": "markdown",
      "metadata": {
        "id": "d21uKbZk1Pqz"
      },
      "source": [
        "# <center> Thank's for your effort ❤️ </center>"
      ]
    }
  ],
  "metadata": {
    "colab": {
      "provenance": []
    },
    "kernelspec": {
      "display_name": "Python 3",
      "language": "python",
      "name": "python3"
    },
    "language_info": {
      "codemirror_mode": {
        "name": "ipython",
        "version": 3
      },
      "file_extension": ".py",
      "mimetype": "text/x-python",
      "name": "python",
      "nbconvert_exporter": "python",
      "pygments_lexer": "ipython3",
      "version": "3.10.9"
    }
  },
  "nbformat": 4,
  "nbformat_minor": 0
}
